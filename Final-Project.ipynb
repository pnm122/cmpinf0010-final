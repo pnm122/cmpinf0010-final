{
 "cells": [
  {
   "cell_type": "markdown",
   "metadata": {},
   "source": [
    "## Dataset Ideas\n",
    "**https://data.wprdc.org/dataset/arrest-data** Maybe group by types of crime and weight differently?\n",
    "\n",
    "**https://data.wprdc.org/dataset/pgh/resource/b7156251-6036-4b68-ad2a-95566c84343e** Neighborhood Population Data\n",
    "\n",
    "https://data.wprdc.org/dataset/playgrounds\n",
    "\n",
    "https://data.wprdc.org/dataset/smart-trash-containers"
   ]
  },
  {
   "cell_type": "code",
   "execution_count": 2,
   "metadata": {},
   "outputs": [],
   "source": [
    "import pandas as pd\n",
    "import numpy as np"
   ]
  },
  {
   "cell_type": "code",
   "execution_count": 14,
   "metadata": {},
   "outputs": [],
   "source": [
    "arrest_data = pd.read_csv(\"arrest-data.csv\")\n",
    "census_data = pd.read_excel(\"census-data.xlsx\")"
   ]
  },
  {
   "cell_type": "code",
   "execution_count": 78,
   "metadata": {},
   "outputs": [
    {
     "data": {
      "text/plain": [
       "INCIDENTNEIGHBORHOOD\n",
       "Central Business District    539\n",
       "East Liberty                 376\n",
       "South Side Flats             314\n",
       "Shadyside                    242\n",
       "Lincoln-Lemington-Belmar     192\n",
       "                            ... \n",
       "Outside County                 2\n",
       "Central Northside              2\n",
       "Outside State                  2\n",
       "Swisshelm Park                 1\n",
       "Mt. Oliver Boro                1\n",
       "Name: OFFENSES, Length: 96, dtype: int64"
      ]
     },
     "execution_count": 78,
     "metadata": {},
     "output_type": "execute_result"
    }
   ],
   "source": [
    "# Filter only theft crimes, then group by neighborhood\n",
    "\n",
    "ad3 = arrest_data[\"OFFENSES\"].str.contains(\"Theft\", na=False)\n",
    "ad3 = arrest_data[ad3]\n",
    "ad3.groupby(\"INCIDENTNEIGHBORHOOD\")[\"OFFENSES\"].count().sort_values(ascending=False)\n"
   ]
  },
  {
   "cell_type": "code",
   "execution_count": null,
   "metadata": {},
   "outputs": [],
   "source": []
  }
 ],
 "metadata": {
  "kernelspec": {
   "display_name": "Python 3",
   "language": "python",
   "name": "python3"
  },
  "language_info": {
   "codemirror_mode": {
    "name": "ipython",
    "version": 3
   },
   "file_extension": ".py",
   "mimetype": "text/x-python",
   "name": "python",
   "nbconvert_exporter": "python",
   "pygments_lexer": "ipython3",
   "version": "3.8.5"
  }
 },
 "nbformat": 4,
 "nbformat_minor": 4
}
