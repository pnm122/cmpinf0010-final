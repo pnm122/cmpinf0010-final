{
 "cells": [
  {
   "cell_type": "code",
   "execution_count": 5,
   "id": "severe-guitar",
   "metadata": {},
   "outputs": [],
   "source": [
    "import pandas as pd\n",
    "import numpy as np"
   ]
  },
  {
   "cell_type": "code",
   "execution_count": 6,
   "id": "unknown-technician",
   "metadata": {},
   "outputs": [
    {
     "ename": "ImportError",
     "evalue": "Missing optional dependency 'xlrd'. Install xlrd >= 1.0.0 for Excel support Use pip or conda to install xlrd.",
     "output_type": "error",
     "traceback": [
      "\u001b[1;31m---------------------------------------------------------------------------\u001b[0m",
      "\u001b[1;31mImportError\u001b[0m                               Traceback (most recent call last)",
      "\u001b[1;32m<ipython-input-6-539611e62466>\u001b[0m in \u001b[0;36m<module>\u001b[1;34m\u001b[0m\n\u001b[0;32m      1\u001b[0m \u001b[0marrest_data\u001b[0m \u001b[1;33m=\u001b[0m \u001b[0mpd\u001b[0m\u001b[1;33m.\u001b[0m\u001b[0mread_csv\u001b[0m\u001b[1;33m(\u001b[0m\u001b[1;34m\"arrest-data.csv\"\u001b[0m\u001b[1;33m)\u001b[0m\u001b[1;33m\u001b[0m\u001b[1;33m\u001b[0m\u001b[0m\n\u001b[1;32m----> 2\u001b[1;33m \u001b[0mcensus_data\u001b[0m \u001b[1;33m=\u001b[0m \u001b[0mpd\u001b[0m\u001b[1;33m.\u001b[0m\u001b[0mread_excel\u001b[0m\u001b[1;33m(\u001b[0m\u001b[1;34m\"census-data.xlsx\"\u001b[0m\u001b[1;33m)\u001b[0m\u001b[1;33m\u001b[0m\u001b[1;33m\u001b[0m\u001b[0m\n\u001b[0m",
      "\u001b[1;32m~\\anaconda3\\envs\\cmpinf0010\\lib\\site-packages\\pandas\\util\\_decorators.py\u001b[0m in \u001b[0;36mwrapper\u001b[1;34m(*args, **kwargs)\u001b[0m\n\u001b[0;32m    297\u001b[0m                 )\n\u001b[0;32m    298\u001b[0m                 \u001b[0mwarnings\u001b[0m\u001b[1;33m.\u001b[0m\u001b[0mwarn\u001b[0m\u001b[1;33m(\u001b[0m\u001b[0mmsg\u001b[0m\u001b[1;33m,\u001b[0m \u001b[0mFutureWarning\u001b[0m\u001b[1;33m,\u001b[0m \u001b[0mstacklevel\u001b[0m\u001b[1;33m=\u001b[0m\u001b[0mstacklevel\u001b[0m\u001b[1;33m)\u001b[0m\u001b[1;33m\u001b[0m\u001b[1;33m\u001b[0m\u001b[0m\n\u001b[1;32m--> 299\u001b[1;33m             \u001b[1;32mreturn\u001b[0m \u001b[0mfunc\u001b[0m\u001b[1;33m(\u001b[0m\u001b[1;33m*\u001b[0m\u001b[0margs\u001b[0m\u001b[1;33m,\u001b[0m \u001b[1;33m**\u001b[0m\u001b[0mkwargs\u001b[0m\u001b[1;33m)\u001b[0m\u001b[1;33m\u001b[0m\u001b[1;33m\u001b[0m\u001b[0m\n\u001b[0m\u001b[0;32m    300\u001b[0m \u001b[1;33m\u001b[0m\u001b[0m\n\u001b[0;32m    301\u001b[0m         \u001b[1;32mreturn\u001b[0m \u001b[0mwrapper\u001b[0m\u001b[1;33m\u001b[0m\u001b[1;33m\u001b[0m\u001b[0m\n",
      "\u001b[1;32m~\\anaconda3\\envs\\cmpinf0010\\lib\\site-packages\\pandas\\io\\excel\\_base.py\u001b[0m in \u001b[0;36mread_excel\u001b[1;34m(io, sheet_name, header, names, index_col, usecols, squeeze, dtype, engine, converters, true_values, false_values, skiprows, nrows, na_values, keep_default_na, na_filter, verbose, parse_dates, date_parser, thousands, comment, skipfooter, convert_float, mangle_dupe_cols, storage_options)\u001b[0m\n\u001b[0;32m    334\u001b[0m     \u001b[1;32mif\u001b[0m \u001b[1;32mnot\u001b[0m \u001b[0misinstance\u001b[0m\u001b[1;33m(\u001b[0m\u001b[0mio\u001b[0m\u001b[1;33m,\u001b[0m \u001b[0mExcelFile\u001b[0m\u001b[1;33m)\u001b[0m\u001b[1;33m:\u001b[0m\u001b[1;33m\u001b[0m\u001b[1;33m\u001b[0m\u001b[0m\n\u001b[0;32m    335\u001b[0m         \u001b[0mshould_close\u001b[0m \u001b[1;33m=\u001b[0m \u001b[1;32mTrue\u001b[0m\u001b[1;33m\u001b[0m\u001b[1;33m\u001b[0m\u001b[0m\n\u001b[1;32m--> 336\u001b[1;33m         \u001b[0mio\u001b[0m \u001b[1;33m=\u001b[0m \u001b[0mExcelFile\u001b[0m\u001b[1;33m(\u001b[0m\u001b[0mio\u001b[0m\u001b[1;33m,\u001b[0m \u001b[0mstorage_options\u001b[0m\u001b[1;33m=\u001b[0m\u001b[0mstorage_options\u001b[0m\u001b[1;33m,\u001b[0m \u001b[0mengine\u001b[0m\u001b[1;33m=\u001b[0m\u001b[0mengine\u001b[0m\u001b[1;33m)\u001b[0m\u001b[1;33m\u001b[0m\u001b[1;33m\u001b[0m\u001b[0m\n\u001b[0m\u001b[0;32m    337\u001b[0m     \u001b[1;32melif\u001b[0m \u001b[0mengine\u001b[0m \u001b[1;32mand\u001b[0m \u001b[0mengine\u001b[0m \u001b[1;33m!=\u001b[0m \u001b[0mio\u001b[0m\u001b[1;33m.\u001b[0m\u001b[0mengine\u001b[0m\u001b[1;33m:\u001b[0m\u001b[1;33m\u001b[0m\u001b[1;33m\u001b[0m\u001b[0m\n\u001b[0;32m    338\u001b[0m         raise ValueError(\n",
      "\u001b[1;32m~\\anaconda3\\envs\\cmpinf0010\\lib\\site-packages\\pandas\\io\\excel\\_base.py\u001b[0m in \u001b[0;36m__init__\u001b[1;34m(self, path_or_buffer, engine, storage_options)\u001b[0m\n\u001b[0;32m   1107\u001b[0m         \u001b[0mself\u001b[0m\u001b[1;33m.\u001b[0m\u001b[0mstorage_options\u001b[0m \u001b[1;33m=\u001b[0m \u001b[0mstorage_options\u001b[0m\u001b[1;33m\u001b[0m\u001b[1;33m\u001b[0m\u001b[0m\n\u001b[0;32m   1108\u001b[0m \u001b[1;33m\u001b[0m\u001b[0m\n\u001b[1;32m-> 1109\u001b[1;33m         \u001b[0mself\u001b[0m\u001b[1;33m.\u001b[0m\u001b[0m_reader\u001b[0m \u001b[1;33m=\u001b[0m \u001b[0mself\u001b[0m\u001b[1;33m.\u001b[0m\u001b[0m_engines\u001b[0m\u001b[1;33m[\u001b[0m\u001b[0mengine\u001b[0m\u001b[1;33m]\u001b[0m\u001b[1;33m(\u001b[0m\u001b[0mself\u001b[0m\u001b[1;33m.\u001b[0m\u001b[0m_io\u001b[0m\u001b[1;33m,\u001b[0m \u001b[0mstorage_options\u001b[0m\u001b[1;33m=\u001b[0m\u001b[0mstorage_options\u001b[0m\u001b[1;33m)\u001b[0m\u001b[1;33m\u001b[0m\u001b[1;33m\u001b[0m\u001b[0m\n\u001b[0m\u001b[0;32m   1110\u001b[0m \u001b[1;33m\u001b[0m\u001b[0m\n\u001b[0;32m   1111\u001b[0m     \u001b[1;32mdef\u001b[0m \u001b[0m__fspath__\u001b[0m\u001b[1;33m(\u001b[0m\u001b[0mself\u001b[0m\u001b[1;33m)\u001b[0m\u001b[1;33m:\u001b[0m\u001b[1;33m\u001b[0m\u001b[1;33m\u001b[0m\u001b[0m\n",
      "\u001b[1;32m~\\anaconda3\\envs\\cmpinf0010\\lib\\site-packages\\pandas\\io\\excel\\_xlrd.py\u001b[0m in \u001b[0;36m__init__\u001b[1;34m(self, filepath_or_buffer, storage_options)\u001b[0m\n\u001b[0;32m     22\u001b[0m         \"\"\"\n\u001b[0;32m     23\u001b[0m         \u001b[0merr_msg\u001b[0m \u001b[1;33m=\u001b[0m \u001b[1;34m\"Install xlrd >= 1.0.0 for Excel support\"\u001b[0m\u001b[1;33m\u001b[0m\u001b[1;33m\u001b[0m\u001b[0m\n\u001b[1;32m---> 24\u001b[1;33m         \u001b[0mimport_optional_dependency\u001b[0m\u001b[1;33m(\u001b[0m\u001b[1;34m\"xlrd\"\u001b[0m\u001b[1;33m,\u001b[0m \u001b[0mextra\u001b[0m\u001b[1;33m=\u001b[0m\u001b[0merr_msg\u001b[0m\u001b[1;33m)\u001b[0m\u001b[1;33m\u001b[0m\u001b[1;33m\u001b[0m\u001b[0m\n\u001b[0m\u001b[0;32m     25\u001b[0m         \u001b[0msuper\u001b[0m\u001b[1;33m(\u001b[0m\u001b[1;33m)\u001b[0m\u001b[1;33m.\u001b[0m\u001b[0m__init__\u001b[0m\u001b[1;33m(\u001b[0m\u001b[0mfilepath_or_buffer\u001b[0m\u001b[1;33m,\u001b[0m \u001b[0mstorage_options\u001b[0m\u001b[1;33m=\u001b[0m\u001b[0mstorage_options\u001b[0m\u001b[1;33m)\u001b[0m\u001b[1;33m\u001b[0m\u001b[1;33m\u001b[0m\u001b[0m\n\u001b[0;32m     26\u001b[0m \u001b[1;33m\u001b[0m\u001b[0m\n",
      "\u001b[1;32m~\\anaconda3\\envs\\cmpinf0010\\lib\\site-packages\\pandas\\compat\\_optional.py\u001b[0m in \u001b[0;36mimport_optional_dependency\u001b[1;34m(name, extra, raise_on_missing, on_version)\u001b[0m\n\u001b[0;32m    107\u001b[0m     \u001b[1;32mexcept\u001b[0m \u001b[0mImportError\u001b[0m\u001b[1;33m:\u001b[0m\u001b[1;33m\u001b[0m\u001b[1;33m\u001b[0m\u001b[0m\n\u001b[0;32m    108\u001b[0m         \u001b[1;32mif\u001b[0m \u001b[0mraise_on_missing\u001b[0m\u001b[1;33m:\u001b[0m\u001b[1;33m\u001b[0m\u001b[1;33m\u001b[0m\u001b[0m\n\u001b[1;32m--> 109\u001b[1;33m             \u001b[1;32mraise\u001b[0m \u001b[0mImportError\u001b[0m\u001b[1;33m(\u001b[0m\u001b[0mmsg\u001b[0m\u001b[1;33m)\u001b[0m \u001b[1;32mfrom\u001b[0m \u001b[1;32mNone\u001b[0m\u001b[1;33m\u001b[0m\u001b[1;33m\u001b[0m\u001b[0m\n\u001b[0m\u001b[0;32m    110\u001b[0m         \u001b[1;32melse\u001b[0m\u001b[1;33m:\u001b[0m\u001b[1;33m\u001b[0m\u001b[1;33m\u001b[0m\u001b[0m\n\u001b[0;32m    111\u001b[0m             \u001b[1;32mreturn\u001b[0m \u001b[1;32mNone\u001b[0m\u001b[1;33m\u001b[0m\u001b[1;33m\u001b[0m\u001b[0m\n",
      "\u001b[1;31mImportError\u001b[0m: Missing optional dependency 'xlrd'. Install xlrd >= 1.0.0 for Excel support Use pip or conda to install xlrd."
     ]
    }
   ],
   "source": [
    "arrest_data = pd.read_csv(\"arrest-data.csv\")\n",
    "census_data = pd.read_excel(\"census-data.xlsx\")"
   ]
  },
  {
   "cell_type": "code",
   "execution_count": 7,
   "id": "clean-channels",
   "metadata": {},
   "outputs": [
    {
     "data": {
      "text/plain": [
       "Central Business District    2877\n",
       "South Side Flats             2414\n",
       "Carrick                      1693\n",
       "East Allegheny               1578\n",
       "Homewood South               1549\n",
       "                             ... \n",
       "Regent Square                  23\n",
       "Central Northside              23\n",
       "Mt. Oliver Boro                17\n",
       "Troy Hill-Herrs Island          6\n",
       "Mt. Oliver Neighborhood         2\n",
       "Name: INCIDENTNEIGHBORHOOD, Length: 98, dtype: int64"
      ]
     },
     "execution_count": 7,
     "metadata": {},
     "output_type": "execute_result"
    }
   ],
   "source": [
    "arrest_data[\"INCIDENTNEIGHBORHOOD\"].value_counts()"
   ]
  },
  {
   "cell_type": "code",
   "execution_count": 8,
   "id": "collected-connecticut",
   "metadata": {},
   "outputs": [
    {
     "data": {
      "text/plain": [
       "0                 Bloomfield\n",
       "1               Outside City\n",
       "2                   Westwood\n",
       "3             East Allegheny\n",
       "4            Crafton Heights\n",
       "                ...         \n",
       "47259      Northview Heights\n",
       "47260               Sheraden\n",
       "47263              Hazelwood\n",
       "47265    Squirrel Hill North\n",
       "47271                Carrick\n",
       "Name: INCIDENTNEIGHBORHOOD, Length: 19625, dtype: object"
      ]
     },
     "execution_count": 8,
     "metadata": {},
     "output_type": "execute_result"
    }
   ],
   "source": [
    "arrest_data.groupby(\"OFFENSES\")[\"INCIDENTNEIGHBORHOOD\"].head()\n"
   ]
  },
  {
   "cell_type": "code",
   "execution_count": 11,
   "id": "false-painting",
   "metadata": {},
   "outputs": [],
   "source": [
    "crimes = {}\n",
    "count = 0\n",
    "weight = 0\n",
    "#have weight increase based be dependant on crime commited\n",
    "for arrest in arrest_data.PK:\n",
    "    weight = 1\n",
    "    \n",
    "    if \"3502\" in str(arrest_data[\"OFFENSES\"][count]):\n",
    "        #burgalry\n",
    "        weight = weight + 2\n",
    "    if \"2701\" in str(arrest_data[\"OFFENSES\"][count]):\n",
    "        #assault\n",
    "        weight = weight + 4\n",
    "    if \"2702\" in str(arrest_data[\"OFFENSES\"][count]):\n",
    "        #aggrevated assault\n",
    "        weight = weight + 4\n",
    "    if \"4304\" in str(arrest_data[\"OFFENSES\"][count]):\n",
    "        #endangering kids\n",
    "        weight = weight + 2\n",
    "    if \"3304\" in str(arrest_data[\"OFFENSES\"][count]):\n",
    "        #criminal mischief\n",
    "        weight = weight + 2\n",
    "    if \"903\" in str(arrest_data[\"OFFENSES\"][count]):\n",
    "        #criminal conspiracy\n",
    "        weight = weight + 3\n",
    "    if \"901\" in str(arrest_data[\"OFFENSES\"][count]):\n",
    "        #crime attempt\n",
    "        weight = weight + 2\n",
    "\n",
    "    if arrest_data[\"INCIDENTNEIGHBORHOOD\"][count] in crimes.keys():\n",
    "        crimes[arrest_data[\"INCIDENTNEIGHBORHOOD\"][count]] = crimes[arrest_data[\"INCIDENTNEIGHBORHOOD\"][count]] + weight\n",
    "    else:\n",
    "        crimes[arrest_data[\"INCIDENTNEIGHBORHOOD\"][count]] = weight\n",
    "\n",
    "    count = count + 1"
   ]
  },
  {
   "cell_type": "code",
   "execution_count": 12,
   "id": "bizarre-arrow",
   "metadata": {},
   "outputs": [
    {
     "name": "stdout",
     "output_type": "stream",
     "text": [
      "{'Bloomfield': 1670, 'Outside City': 318, 'Westwood': 484, 'East Allegheny': 2850, 'Crafton Heights': 1306, 'Greenfield': 1032, 'Brookline': 2831, 'Regent Square': 39, 'East Liberty': 3078, nan: 4608, 'East Hills': 2607, 'Carrick': 4655, 'Allegheny Center': 1707, 'South Side Flats': 5679, 'Sheraden': 2820, 'East Carnegie': 135, 'Golden Triangle/Civic Arena': 182, 'Point Breeze North': 473, 'Perry South': 2179, 'Allentown': 1870, 'North Shore': 1180, 'Marshall-Shadeland': 3508, 'Central Oakland': 891, 'Middle Hill': 1809, 'Strip District': 785, 'Lincoln-Lemington-Belmar': 2290, 'Central Northside': 32, 'Troy Hill-Herrs Island': 12, 'Highland Park': 1039, 'Homewood North': 3568, 'Northview Heights': 1682, 'Brighton Heights': 2401, 'Hazelwood': 2614, 'Perry North': 1573, 'Bedford Dwellings': 1574, 'Elliott': 1310, 'Beechview': 2827, 'Fineview': 1459, 'Glen Hazel': 389, 'Spring Hill-City View': 1756, 'Bluff': 2123, 'Manchester': 1020, 'Homewood West': 1514, 'Outside County': 50, 'Point Breeze': 683, 'Homewood South': 3486, 'Squirrel Hill South': 1419, 'Terrace Village': 719, 'Upper Lawrenceville': 409, 'Arlington': 680, 'South Side Slopes': 1505, 'Lower Lawrenceville': 581, 'Garfield': 1500, 'Lincoln Place': 408, 'Larimer': 1346, 'Mount Washington': 2885, 'California-Kirkbride': 610, 'Banksville': 478, 'Bon Air': 431, 'South Shore': 395, 'Beltzhoover': 1056, 'Knoxville': 2795, 'Chateau': 666, 'Crawford-Roberts': 1535, 'Polish Hill': 328, 'Fairywood': 345, 'West End': 399, 'Shadyside': 1406, 'Morningside': 402, 'Overbrook': 560, 'Friendship': 373, 'North Oakland': 698, 'Central Lawrenceville': 916, 'Oakwood': 135, 'Upper Hill': 931, 'South Oakland': 578, 'West Oakland': 643, 'Spring Garden': 481, 'Allegheny West': 188, 'St. Clair': 80, 'Stanton Heights': 462, 'Esplen': 314, 'Squirrel Hill North': 439, 'Mt. Oliver Neighborhood': 6, 'Summer Hill': 166, 'Arlington Heights': 483, 'Troy Hill': 808, 'Central Business District': 6321, 'Central North Side': 1258, 'Mount Oliver': 363, 'Windgap': 303, 'Outside State': 98, 'Duquesne Heights': 314, 'New Homestead': 77, 'Ridgemont': 72, 'Swisshelm Park': 98, 'Hays': 239, 'Chartiers City': 96, 'Mt. Oliver Boro': 42}\n"
     ]
    }
   ],
   "source": [
    "print(crimes)"
   ]
  },
  {
   "cell_type": "code",
   "execution_count": null,
   "id": "double-measure",
   "metadata": {},
   "outputs": [],
   "source": []
  }
 ],
 "metadata": {
  "kernelspec": {
   "display_name": "Python 3",
   "language": "python",
   "name": "python3"
  },
  "language_info": {
   "codemirror_mode": {
    "name": "ipython",
    "version": 3
   },
   "file_extension": ".py",
   "mimetype": "text/x-python",
   "name": "python",
   "nbconvert_exporter": "python",
   "pygments_lexer": "ipython3",
   "version": "3.8.5"
  }
 },
 "nbformat": 4,
 "nbformat_minor": 5
}
