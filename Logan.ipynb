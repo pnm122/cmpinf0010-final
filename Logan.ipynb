{
 "cells": [
  {
   "cell_type": "code",
   "execution_count": 2,
   "metadata": {},
   "outputs": [],
   "source": [
    "import pandas as pd\n",
    "import numpy as np"
   ]
  },
  {
   "cell_type": "code",
   "execution_count": 13,
   "metadata": {},
   "outputs": [],
   "source": [
    "arrest_data = pd.read_csv(\"arrest-data.csv\")\n",
    "census_data = pd.read_excel(\"census-data.xlsx\")"
   ]
  },
  {
   "cell_type": "code",
   "execution_count": 4,
   "metadata": {},
   "outputs": [
    {
     "data": {
      "text/plain": [
       "Central Business District    2877\n",
       "South Side Flats             2414\n",
       "Carrick                      1693\n",
       "East Allegheny               1578\n",
       "Homewood South               1549\n",
       "                             ... \n",
       "Central Northside              23\n",
       "Regent Square                  23\n",
       "Mt. Oliver Boro                17\n",
       "Troy Hill-Herrs Island          6\n",
       "Mt. Oliver Neighborhood         2\n",
       "Name: INCIDENTNEIGHBORHOOD, Length: 98, dtype: int64"
      ]
     },
     "execution_count": 4,
     "metadata": {},
     "output_type": "execute_result"
    }
   ],
   "source": [
    "arrest_data[\"INCIDENTNEIGHBORHOOD\"].value_counts()"
   ]
  },
  {
   "cell_type": "code",
   "execution_count": 5,
   "metadata": {},
   "outputs": [
    {
     "data": {
      "text/plain": [
       "0                 Bloomfield\n",
       "1               Outside City\n",
       "2                   Westwood\n",
       "3             East Allegheny\n",
       "4            Crafton Heights\n",
       "                ...         \n",
       "47259      Northview Heights\n",
       "47260               Sheraden\n",
       "47263              Hazelwood\n",
       "47265    Squirrel Hill North\n",
       "47271                Carrick\n",
       "Name: INCIDENTNEIGHBORHOOD, Length: 19625, dtype: object"
      ]
     },
     "execution_count": 5,
     "metadata": {},
     "output_type": "execute_result"
    }
   ],
   "source": [
    "arrest_data.groupby(\"OFFENSES\")[\"INCIDENTNEIGHBORHOOD\"].head()\n"
   ]
  },
  {
   "cell_type": "code",
   "execution_count": 43,
   "metadata": {},
   "outputs": [],
   "source": [
    "crimes = {}\n",
    "count = 0\n",
    "weight = 0\n",
    "#have weight increase based be dependant on crime commited\n",
    "for arrest in arrest_data.PK:\n",
    "    weight = 1\n",
    "    \n",
    "    if \"3929\" in str(arrest_data[\"OFFENSES\"][count]):\n",
    "        weight = weight + 1\n",
    "    \n",
    "    if arrest_data[\"INCIDENTNEIGHBORHOOD\"][count] in crimes.keys():\n",
    "        crimes[arrest_data[\"INCIDENTNEIGHBORHOOD\"][count]] = crimes[arrest_data[\"INCIDENTNEIGHBORHOOD\"][count]] + weight\n",
    "    else:\n",
    "        crimes[arrest_data[\"INCIDENTNEIGHBORHOOD\"][count]] = weight\n",
    "\n",
    "    count = count + 1"
   ]
  },
  {
   "cell_type": "code",
   "execution_count": 44,
   "metadata": {},
   "outputs": [
    {
     "name": "stdout",
     "output_type": "stream",
     "text": [
      "{'Bloomfield': 783, 'Outside City': 224, 'Westwood': 169, 'East Allegheny': 1696, 'Crafton Heights': 393, 'Greenfield': 363, 'Brookline': 938, 'Regent Square': 23, 'East Liberty': 1596, nan: 1812, 'East Hills': 792, 'Carrick': 1722, 'Allegheny Center': 867, 'South Side Flats': 2529, 'Sheraden': 906, 'East Carnegie': 38, 'Golden Triangle/Civic Arena': 88, 'Point Breeze North': 203, 'Perry South': 799, 'Allentown': 693, 'North Shore': 560, 'Marshall-Shadeland': 1128, 'Central Oakland': 473, 'Middle Hill': 703, 'Strip District': 365, 'Lincoln-Lemington-Belmar': 1051, 'Central Northside': 23, 'Troy Hill-Herrs Island': 6, 'Highland Park': 429, 'Homewood North': 1404, 'Northview Heights': 524, 'Brighton Heights': 821, 'Hazelwood': 957, 'Perry North': 493, 'Bedford Dwellings': 458, 'Elliott': 462, 'Beechview': 913, 'Fineview': 657, 'Glen Hazel': 105, 'Spring Hill-City View': 541, 'Bluff': 1066, 'Manchester': 372, 'Homewood West': 570, 'Outside County': 43, 'Point Breeze': 252, 'Homewood South': 1550, 'Squirrel Hill South': 627, 'Terrace Village': 190, 'Upper Lawrenceville': 150, 'Arlington': 209, 'South Side Slopes': 596, 'Lower Lawrenceville': 199, 'Garfield': 527, 'Lincoln Place': 137, 'Larimer': 591, 'Mount Washington': 1046, 'California-Kirkbride': 216, 'Banksville': 209, 'Bon Air': 173, 'South Shore': 208, 'Beltzhoover': 381, 'Knoxville': 977, 'Chateau': 327, 'Crawford-Roberts': 624, 'Polish Hill': 116, 'Fairywood': 81, 'West End': 198, 'Shadyside': 887, 'Morningside': 146, 'Overbrook': 210, 'Friendship': 139, 'North Oakland': 325, 'Central Lawrenceville': 336, 'Oakwood': 61, 'Upper Hill': 275, 'South Oakland': 248, 'West Oakland': 228, 'Spring Garden': 183, 'Allegheny West': 94, 'St. Clair': 36, 'Stanton Heights': 172, 'Esplen': 144, 'Squirrel Hill North': 200, 'Mt. Oliver Neighborhood': 2, 'Summer Hill': 60, 'Arlington Heights': 111, 'Troy Hill': 312, 'Central Business District': 3129, 'Central North Side': 675, 'Mount Oliver': 100, 'Windgap': 82, 'Outside State': 49, 'Duquesne Heights': 140, 'New Homestead': 27, 'Ridgemont': 28, 'Swisshelm Park': 30, 'Hays': 78, 'Chartiers City': 28, 'Mt. Oliver Boro': 17}\n"
     ]
    }
   ],
   "source": [
    "print(crimes)"
   ]
  },
  {
   "cell_type": "code",
   "execution_count": null,
   "metadata": {},
   "outputs": [],
   "source": []
  }
 ],
 "metadata": {
  "kernelspec": {
   "display_name": "Python 3",
   "language": "python",
   "name": "python3"
  },
  "language_info": {
   "codemirror_mode": {
    "name": "ipython",
    "version": 3
   },
   "file_extension": ".py",
   "mimetype": "text/x-python",
   "name": "python",
   "nbconvert_exporter": "python",
   "pygments_lexer": "ipython3",
   "version": "3.8.5"
  }
 },
 "nbformat": 4,
 "nbformat_minor": 5
}
