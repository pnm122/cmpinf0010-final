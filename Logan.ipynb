{
 "cells": [
  {
   "cell_type": "code",
   "execution_count": 5,
   "id": "composed-scottish",
   "metadata": {},
   "outputs": [],
   "source": [
    "import pandas as pd\n",
    "import numpy as np"
   ]
  },
  {
   "cell_type": "code",
   "execution_count": 6,
   "id": "responsible-depth",
   "metadata": {},
   "outputs": [
    {
     "ename": "ImportError",
     "evalue": "Missing optional dependency 'xlrd'. Install xlrd >= 1.0.0 for Excel support Use pip or conda to install xlrd.",
     "output_type": "error",
     "traceback": [
      "\u001b[1;31m---------------------------------------------------------------------------\u001b[0m",
      "\u001b[1;31mImportError\u001b[0m                               Traceback (most recent call last)",
      "\u001b[1;32m<ipython-input-6-539611e62466>\u001b[0m in \u001b[0;36m<module>\u001b[1;34m\u001b[0m\n\u001b[0;32m      1\u001b[0m \u001b[0marrest_data\u001b[0m \u001b[1;33m=\u001b[0m \u001b[0mpd\u001b[0m\u001b[1;33m.\u001b[0m\u001b[0mread_csv\u001b[0m\u001b[1;33m(\u001b[0m\u001b[1;34m\"arrest-data.csv\"\u001b[0m\u001b[1;33m)\u001b[0m\u001b[1;33m\u001b[0m\u001b[1;33m\u001b[0m\u001b[0m\n\u001b[1;32m----> 2\u001b[1;33m \u001b[0mcensus_data\u001b[0m \u001b[1;33m=\u001b[0m \u001b[0mpd\u001b[0m\u001b[1;33m.\u001b[0m\u001b[0mread_excel\u001b[0m\u001b[1;33m(\u001b[0m\u001b[1;34m\"census-data.xlsx\"\u001b[0m\u001b[1;33m)\u001b[0m\u001b[1;33m\u001b[0m\u001b[1;33m\u001b[0m\u001b[0m\n\u001b[0m",
      "\u001b[1;32m~\\anaconda3\\envs\\cmpinf0010\\lib\\site-packages\\pandas\\util\\_decorators.py\u001b[0m in \u001b[0;36mwrapper\u001b[1;34m(*args, **kwargs)\u001b[0m\n\u001b[0;32m    297\u001b[0m                 )\n\u001b[0;32m    298\u001b[0m                 \u001b[0mwarnings\u001b[0m\u001b[1;33m.\u001b[0m\u001b[0mwarn\u001b[0m\u001b[1;33m(\u001b[0m\u001b[0mmsg\u001b[0m\u001b[1;33m,\u001b[0m \u001b[0mFutureWarning\u001b[0m\u001b[1;33m,\u001b[0m \u001b[0mstacklevel\u001b[0m\u001b[1;33m=\u001b[0m\u001b[0mstacklevel\u001b[0m\u001b[1;33m)\u001b[0m\u001b[1;33m\u001b[0m\u001b[1;33m\u001b[0m\u001b[0m\n\u001b[1;32m--> 299\u001b[1;33m             \u001b[1;32mreturn\u001b[0m \u001b[0mfunc\u001b[0m\u001b[1;33m(\u001b[0m\u001b[1;33m*\u001b[0m\u001b[0margs\u001b[0m\u001b[1;33m,\u001b[0m \u001b[1;33m**\u001b[0m\u001b[0mkwargs\u001b[0m\u001b[1;33m)\u001b[0m\u001b[1;33m\u001b[0m\u001b[1;33m\u001b[0m\u001b[0m\n\u001b[0m\u001b[0;32m    300\u001b[0m \u001b[1;33m\u001b[0m\u001b[0m\n\u001b[0;32m    301\u001b[0m         \u001b[1;32mreturn\u001b[0m \u001b[0mwrapper\u001b[0m\u001b[1;33m\u001b[0m\u001b[1;33m\u001b[0m\u001b[0m\n",
      "\u001b[1;32m~\\anaconda3\\envs\\cmpinf0010\\lib\\site-packages\\pandas\\io\\excel\\_base.py\u001b[0m in \u001b[0;36mread_excel\u001b[1;34m(io, sheet_name, header, names, index_col, usecols, squeeze, dtype, engine, converters, true_values, false_values, skiprows, nrows, na_values, keep_default_na, na_filter, verbose, parse_dates, date_parser, thousands, comment, skipfooter, convert_float, mangle_dupe_cols, storage_options)\u001b[0m\n\u001b[0;32m    334\u001b[0m     \u001b[1;32mif\u001b[0m \u001b[1;32mnot\u001b[0m \u001b[0misinstance\u001b[0m\u001b[1;33m(\u001b[0m\u001b[0mio\u001b[0m\u001b[1;33m,\u001b[0m \u001b[0mExcelFile\u001b[0m\u001b[1;33m)\u001b[0m\u001b[1;33m:\u001b[0m\u001b[1;33m\u001b[0m\u001b[1;33m\u001b[0m\u001b[0m\n\u001b[0;32m    335\u001b[0m         \u001b[0mshould_close\u001b[0m \u001b[1;33m=\u001b[0m \u001b[1;32mTrue\u001b[0m\u001b[1;33m\u001b[0m\u001b[1;33m\u001b[0m\u001b[0m\n\u001b[1;32m--> 336\u001b[1;33m         \u001b[0mio\u001b[0m \u001b[1;33m=\u001b[0m \u001b[0mExcelFile\u001b[0m\u001b[1;33m(\u001b[0m\u001b[0mio\u001b[0m\u001b[1;33m,\u001b[0m \u001b[0mstorage_options\u001b[0m\u001b[1;33m=\u001b[0m\u001b[0mstorage_options\u001b[0m\u001b[1;33m,\u001b[0m \u001b[0mengine\u001b[0m\u001b[1;33m=\u001b[0m\u001b[0mengine\u001b[0m\u001b[1;33m)\u001b[0m\u001b[1;33m\u001b[0m\u001b[1;33m\u001b[0m\u001b[0m\n\u001b[0m\u001b[0;32m    337\u001b[0m     \u001b[1;32melif\u001b[0m \u001b[0mengine\u001b[0m \u001b[1;32mand\u001b[0m \u001b[0mengine\u001b[0m \u001b[1;33m!=\u001b[0m \u001b[0mio\u001b[0m\u001b[1;33m.\u001b[0m\u001b[0mengine\u001b[0m\u001b[1;33m:\u001b[0m\u001b[1;33m\u001b[0m\u001b[1;33m\u001b[0m\u001b[0m\n\u001b[0;32m    338\u001b[0m         raise ValueError(\n",
      "\u001b[1;32m~\\anaconda3\\envs\\cmpinf0010\\lib\\site-packages\\pandas\\io\\excel\\_base.py\u001b[0m in \u001b[0;36m__init__\u001b[1;34m(self, path_or_buffer, engine, storage_options)\u001b[0m\n\u001b[0;32m   1107\u001b[0m         \u001b[0mself\u001b[0m\u001b[1;33m.\u001b[0m\u001b[0mstorage_options\u001b[0m \u001b[1;33m=\u001b[0m \u001b[0mstorage_options\u001b[0m\u001b[1;33m\u001b[0m\u001b[1;33m\u001b[0m\u001b[0m\n\u001b[0;32m   1108\u001b[0m \u001b[1;33m\u001b[0m\u001b[0m\n\u001b[1;32m-> 1109\u001b[1;33m         \u001b[0mself\u001b[0m\u001b[1;33m.\u001b[0m\u001b[0m_reader\u001b[0m \u001b[1;33m=\u001b[0m \u001b[0mself\u001b[0m\u001b[1;33m.\u001b[0m\u001b[0m_engines\u001b[0m\u001b[1;33m[\u001b[0m\u001b[0mengine\u001b[0m\u001b[1;33m]\u001b[0m\u001b[1;33m(\u001b[0m\u001b[0mself\u001b[0m\u001b[1;33m.\u001b[0m\u001b[0m_io\u001b[0m\u001b[1;33m,\u001b[0m \u001b[0mstorage_options\u001b[0m\u001b[1;33m=\u001b[0m\u001b[0mstorage_options\u001b[0m\u001b[1;33m)\u001b[0m\u001b[1;33m\u001b[0m\u001b[1;33m\u001b[0m\u001b[0m\n\u001b[0m\u001b[0;32m   1110\u001b[0m \u001b[1;33m\u001b[0m\u001b[0m\n\u001b[0;32m   1111\u001b[0m     \u001b[1;32mdef\u001b[0m \u001b[0m__fspath__\u001b[0m\u001b[1;33m(\u001b[0m\u001b[0mself\u001b[0m\u001b[1;33m)\u001b[0m\u001b[1;33m:\u001b[0m\u001b[1;33m\u001b[0m\u001b[1;33m\u001b[0m\u001b[0m\n",
      "\u001b[1;32m~\\anaconda3\\envs\\cmpinf0010\\lib\\site-packages\\pandas\\io\\excel\\_xlrd.py\u001b[0m in \u001b[0;36m__init__\u001b[1;34m(self, filepath_or_buffer, storage_options)\u001b[0m\n\u001b[0;32m     22\u001b[0m         \"\"\"\n\u001b[0;32m     23\u001b[0m         \u001b[0merr_msg\u001b[0m \u001b[1;33m=\u001b[0m \u001b[1;34m\"Install xlrd >= 1.0.0 for Excel support\"\u001b[0m\u001b[1;33m\u001b[0m\u001b[1;33m\u001b[0m\u001b[0m\n\u001b[1;32m---> 24\u001b[1;33m         \u001b[0mimport_optional_dependency\u001b[0m\u001b[1;33m(\u001b[0m\u001b[1;34m\"xlrd\"\u001b[0m\u001b[1;33m,\u001b[0m \u001b[0mextra\u001b[0m\u001b[1;33m=\u001b[0m\u001b[0merr_msg\u001b[0m\u001b[1;33m)\u001b[0m\u001b[1;33m\u001b[0m\u001b[1;33m\u001b[0m\u001b[0m\n\u001b[0m\u001b[0;32m     25\u001b[0m         \u001b[0msuper\u001b[0m\u001b[1;33m(\u001b[0m\u001b[1;33m)\u001b[0m\u001b[1;33m.\u001b[0m\u001b[0m__init__\u001b[0m\u001b[1;33m(\u001b[0m\u001b[0mfilepath_or_buffer\u001b[0m\u001b[1;33m,\u001b[0m \u001b[0mstorage_options\u001b[0m\u001b[1;33m=\u001b[0m\u001b[0mstorage_options\u001b[0m\u001b[1;33m)\u001b[0m\u001b[1;33m\u001b[0m\u001b[1;33m\u001b[0m\u001b[0m\n\u001b[0;32m     26\u001b[0m \u001b[1;33m\u001b[0m\u001b[0m\n",
      "\u001b[1;32m~\\anaconda3\\envs\\cmpinf0010\\lib\\site-packages\\pandas\\compat\\_optional.py\u001b[0m in \u001b[0;36mimport_optional_dependency\u001b[1;34m(name, extra, raise_on_missing, on_version)\u001b[0m\n\u001b[0;32m    107\u001b[0m     \u001b[1;32mexcept\u001b[0m \u001b[0mImportError\u001b[0m\u001b[1;33m:\u001b[0m\u001b[1;33m\u001b[0m\u001b[1;33m\u001b[0m\u001b[0m\n\u001b[0;32m    108\u001b[0m         \u001b[1;32mif\u001b[0m \u001b[0mraise_on_missing\u001b[0m\u001b[1;33m:\u001b[0m\u001b[1;33m\u001b[0m\u001b[1;33m\u001b[0m\u001b[0m\n\u001b[1;32m--> 109\u001b[1;33m             \u001b[1;32mraise\u001b[0m \u001b[0mImportError\u001b[0m\u001b[1;33m(\u001b[0m\u001b[0mmsg\u001b[0m\u001b[1;33m)\u001b[0m \u001b[1;32mfrom\u001b[0m \u001b[1;32mNone\u001b[0m\u001b[1;33m\u001b[0m\u001b[1;33m\u001b[0m\u001b[0m\n\u001b[0m\u001b[0;32m    110\u001b[0m         \u001b[1;32melse\u001b[0m\u001b[1;33m:\u001b[0m\u001b[1;33m\u001b[0m\u001b[1;33m\u001b[0m\u001b[0m\n\u001b[0;32m    111\u001b[0m             \u001b[1;32mreturn\u001b[0m \u001b[1;32mNone\u001b[0m\u001b[1;33m\u001b[0m\u001b[1;33m\u001b[0m\u001b[0m\n",
      "\u001b[1;31mImportError\u001b[0m: Missing optional dependency 'xlrd'. Install xlrd >= 1.0.0 for Excel support Use pip or conda to install xlrd."
     ]
    }
   ],
   "source": [
    "arrest_data = pd.read_csv(\"arrest-data.csv\")\n",
    "census_data = pd.read_excel(\"census-data.xlsx\")"
   ]
  },
  {
   "cell_type": "code",
   "execution_count": 7,
   "id": "fourth-triangle",
   "metadata": {},
   "outputs": [
    {
     "data": {
      "text/plain": [
       "Central Business District    2877\n",
       "South Side Flats             2414\n",
       "Carrick                      1693\n",
       "East Allegheny               1578\n",
       "Homewood South               1549\n",
       "                             ... \n",
       "Regent Square                  23\n",
       "Central Northside              23\n",
       "Mt. Oliver Boro                17\n",
       "Troy Hill-Herrs Island          6\n",
       "Mt. Oliver Neighborhood         2\n",
       "Name: INCIDENTNEIGHBORHOOD, Length: 98, dtype: int64"
      ]
     },
     "execution_count": 7,
     "metadata": {},
     "output_type": "execute_result"
    }
   ],
   "source": [
    "arrest_data[\"INCIDENTNEIGHBORHOOD\"].value_counts()"
   ]
  },
  {
   "cell_type": "code",
   "execution_count": 8,
   "id": "surrounded-firewall",
   "metadata": {},
   "outputs": [
    {
     "data": {
      "text/plain": [
       "0                 Bloomfield\n",
       "1               Outside City\n",
       "2                   Westwood\n",
       "3             East Allegheny\n",
       "4            Crafton Heights\n",
       "                ...         \n",
       "47259      Northview Heights\n",
       "47260               Sheraden\n",
       "47263              Hazelwood\n",
       "47265    Squirrel Hill North\n",
       "47271                Carrick\n",
       "Name: INCIDENTNEIGHBORHOOD, Length: 19625, dtype: object"
      ]
     },
     "execution_count": 8,
     "metadata": {},
     "output_type": "execute_result"
    }
   ],
   "source": [
    "arrest_data.groupby(\"OFFENSES\")[\"INCIDENTNEIGHBORHOOD\"].head()\n"
   ]
  },
  {
   "cell_type": "code",
   "execution_count": 15,
   "id": "latter-specific",
   "metadata": {},
   "outputs": [],
   "source": [
    "crimes = {}\n",
    "count = 0\n",
    "weight = 0\n",
    "#have weight increase based be dependant on crime commited\n",
    "for arrest in arrest_data.PK:\n",
    "    weight = 1\n",
    "    \n",
    "    if \" 3502\" in str(arrest_data[\"OFFENSES\"][count]):\n",
    "        #burgalry\n",
    "        weight = weight + 2\n",
    "    if \" 2701\" in str(arrest_data[\"OFFENSES\"][count]):\n",
    "        #assault\n",
    "        weight = weight + 3\n",
    "    if \" 2702\" in str(arrest_data[\"OFFENSES\"][count]):\n",
    "        #aggrevated assault\n",
    "        weight = weight + 4\n",
    "    if \" 4304\" in str(arrest_data[\"OFFENSES\"][count]):\n",
    "        #endangering kids\n",
    "        weight = weight + 2\n",
    "    if \" 3304\" in str(arrest_data[\"OFFENSES\"][count]):\n",
    "        #criminal mischief\n",
    "        weight = weight + 2\n",
    "    if \" 903\" in str(arrest_data[\"OFFENSES\"][count]):\n",
    "        #criminal conspiracy\n",
    "        weight = weight + 3\n",
    "    if \" 901\" in str(arrest_data[\"OFFENSES\"][count]):\n",
    "        #crime attempt\n",
    "        weight = weight + 2\n",
    "    if \" 2901\" in str(arrest_data[\"OFFENSES\"][count]):\n",
    "        #kidnapping\n",
    "        weight = weight + 7\n",
    "    if arrest_data[\"INCIDENTNEIGHBORHOOD\"][count] in crimes.keys():\n",
    "        crimes[arrest_data[\"INCIDENTNEIGHBORHOOD\"][count]] = crimes[arrest_data[\"INCIDENTNEIGHBORHOOD\"][count]] + weight\n",
    "    else:\n",
    "        crimes[arrest_data[\"INCIDENTNEIGHBORHOOD\"][count]] = weight\n",
    "\n",
    "    count = count + 1"
   ]
  },
  {
   "cell_type": "code",
   "execution_count": 16,
   "id": "technical-mileage",
   "metadata": {},
   "outputs": [
    {
     "name": "stdout",
     "output_type": "stream",
     "text": [
      "{'Bloomfield': 897, 'Outside City': 231, 'Westwood': 256, 'East Allegheny': 1798, 'Crafton Heights': 642, 'Greenfield': 542, 'Brookline': 1432, 'Regent Square': 25, 'East Liberty': 1679, nan: 2636, 'East Hills': 1257, 'Carrick': 2352, 'Allegheny Center': 1060, 'South Side Flats': 3190, 'Sheraden': 1427, 'East Carnegie': 62, 'Golden Triangle/Civic Arena': 105, 'Point Breeze North': 302, 'Perry South': 1081, 'Allentown': 935, 'North Shore': 664, 'Marshall-Shadeland': 1702, 'Central Oakland': 499, 'Middle Hill': 954, 'Strip District': 450, 'Lincoln-Lemington-Belmar': 1252, 'Central Northside': 23, 'Troy Hill-Herrs Island': 6, 'Highland Park': 571, 'Homewood North': 1981, 'Northview Heights': 840, 'Brighton Heights': 1208, 'Hazelwood': 1423, 'Perry North': 737, 'Bedford Dwellings': 742, 'Elliott': 666, 'Beechview': 1342, 'Fineview': 843, 'Glen Hazel': 167, 'Spring Hill-City View': 864, 'Bluff': 1321, 'Manchester': 540, 'Homewood West': 788, 'Outside County': 42, 'Point Breeze': 354, 'Homewood South': 2007, 'Squirrel Hill South': 843, 'Terrace Village': 360, 'Upper Lawrenceville': 210, 'Arlington': 327, 'South Side Slopes': 812, 'Lower Lawrenceville': 274, 'Garfield': 797, 'Lincoln Place': 213, 'Larimer': 820, 'Mount Washington': 1491, 'California-Kirkbride': 331, 'Banksville': 261, 'Bon Air': 235, 'South Shore': 248, 'Beltzhoover': 537, 'Knoxville': 1507, 'Chateau': 391, 'Crawford-Roberts': 765, 'Polish Hill': 166, 'Fairywood': 177, 'West End': 266, 'Shadyside': 879, 'Morningside': 183, 'Overbrook': 297, 'Friendship': 159, 'North Oakland': 394, 'Central Lawrenceville': 473, 'Oakwood': 64, 'Upper Hill': 395, 'South Oakland': 311, 'West Oakland': 369, 'Spring Garden': 264, 'Allegheny West': 114, 'St. Clair': 46, 'Stanton Heights': 241, 'Esplen': 179, 'Squirrel Hill North': 272, 'Mt. Oliver Neighborhood': 2, 'Summer Hill': 81, 'Arlington Heights': 259, 'Troy Hill': 402, 'Central Business District': 3579, 'Central North Side': 746, 'Mount Oliver': 146, 'Windgap': 142, 'Outside State': 61, 'Duquesne Heights': 179, 'New Homestead': 31, 'Ridgemont': 34, 'Swisshelm Park': 42, 'Hays': 116, 'Chartiers City': 50, 'Mt. Oliver Boro': 29}\n"
     ]
    }
   ],
   "source": [
    "print(crimes)"
   ]
  },
  {
   "cell_type": "code",
   "execution_count": null,
   "id": "every-information",
   "metadata": {},
   "outputs": [],
   "source": []
  }
 ],
 "metadata": {
  "kernelspec": {
   "display_name": "Python 3",
   "language": "python",
   "name": "python3"
  },
  "language_info": {
   "codemirror_mode": {
    "name": "ipython",
    "version": 3
   },
   "file_extension": ".py",
   "mimetype": "text/x-python",
   "name": "python",
   "nbconvert_exporter": "python",
   "pygments_lexer": "ipython3",
   "version": "3.8.5"
  }
 },
 "nbformat": 4,
 "nbformat_minor": 5
}
